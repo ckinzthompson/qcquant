{
 "cells": [
  {
   "cell_type": "markdown",
   "metadata": {},
   "source": [
    "<a href=\"https://colab.research.google.com/github/ckinzthompson/qcquant/blob/main/example_data/template.ipynb\" target=\"_parent\"><img src=\"https://colab.research.google.com/assets/colab-badge.svg\" alt=\"Open In Colab\"/></a>"
   ]
  },
  {
   "cell_type": "code",
   "execution_count": null,
   "metadata": {},
   "outputs": [],
   "source": [
    "#@title For Google Colab, run this cell once to install qcquant\n",
    "\n",
    "!git clone https://github.com/ckinzthompson/qcquant.git\n",
    "import sys\n",
    "sys.path.append('/content/qcquant/qcquant')\n",
    "from . import qcquant_fitting as qcqf\n",
    "\n",
    "import numpy as np\n"
   ]
  },
  {
   "cell_type": "code",
   "execution_count": null,
   "metadata": {},
   "outputs": [],
   "source": [
    "x,d = qcqf.load('/content/qcquant/example_data/20240411_5.5H_2.3_ra.txt')\n",
    "\n",
    "xl = 4.\n",
    "xr = 40.\n",
    "\n",
    "theta = qcqf.naive(x,d,xl,xr)\n",
    "success,theta = qcqf.fit(x,d,xl,xr,guess=theta,repeats=10)\n",
    "fig,ax = qcqf.plot(x,d,xl,xr,theta,x_plotmin=0,x_plotmax=50)\n",
    "\n",
    "qcqf.report(theta)"
   ]
  }
 ],
 "metadata": {
  "kernelspec": {
   "display_name": "Python 3",
   "language": "python",
   "name": "python3"
  },
  "language_info": {
   "codemirror_mode": {
    "name": "ipython",
    "version": 3
   },
   "file_extension": ".py",
   "mimetype": "text/x-python",
   "name": "python",
   "nbconvert_exporter": "python",
   "pygments_lexer": "ipython3",
   "version": "3.9.0"
  }
 },
 "nbformat": 4,
 "nbformat_minor": 2
}
